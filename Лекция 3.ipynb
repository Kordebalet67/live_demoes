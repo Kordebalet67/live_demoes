{
 "cells": [
  {
   "cell_type": "code",
   "execution_count": 1,
   "metadata": {},
   "outputs": [
    {
     "name": "stdout",
     "output_type": "stream",
     "text": [
      "12\n"
     ]
    }
   ],
   "source": [
    "print(2 * (10 - 4))"
   ]
  },
  {
   "cell_type": "code",
   "execution_count": 2,
   "metadata": {},
   "outputs": [
    {
     "name": "stdout",
     "output_type": "stream",
     "text": [
      "15\n"
     ]
    }
   ],
   "source": [
    "a = 4\n",
    "t = 15\n",
    "print(t)"
   ]
  },
  {
   "cell_type": "code",
   "execution_count": 3,
   "metadata": {},
   "outputs": [
    {
     "ename": "SyntaxError",
     "evalue": "invalid syntax (3594483855.py, line 1)",
     "output_type": "error",
     "traceback": [
      "\u001b[1;36m  Cell \u001b[1;32mIn[3], line 1\u001b[1;36m\u001b[0m\n\u001b[1;33m    def = 10\u001b[0m\n\u001b[1;37m        ^\u001b[0m\n\u001b[1;31mSyntaxError\u001b[0m\u001b[1;31m:\u001b[0m invalid syntax\n"
     ]
    }
   ],
   "source": [
    "def = 10"
   ]
  },
  {
   "cell_type": "code",
   "execution_count": 4,
   "metadata": {},
   "outputs": [
    {
     "ename": "SyntaxError",
     "evalue": "invalid decimal literal (1098646775.py, line 1)",
     "output_type": "error",
     "traceback": [
      "\u001b[1;36m  Cell \u001b[1;32mIn[4], line 1\u001b[1;36m\u001b[0m\n\u001b[1;33m    1st = 12\u001b[0m\n\u001b[1;37m    ^\u001b[0m\n\u001b[1;31mSyntaxError\u001b[0m\u001b[1;31m:\u001b[0m invalid decimal literal\n"
     ]
    }
   ],
   "source": [
    "1st = 12"
   ]
  },
  {
   "cell_type": "code",
   "execution_count": 6,
   "metadata": {},
   "outputs": [
    {
     "name": "stdout",
     "output_type": "stream",
     "text": [
      "14.5\n",
      "2.5\n",
      "51.0\n",
      "1.4166666666666667\n",
      "377149.515625\n"
     ]
    }
   ],
   "source": [
    "a = 8.5\n",
    "b = 6\n",
    "c = a + b\n",
    "print (c)\n",
    "print (a - b)\n",
    "print (a * b)\n",
    "print (a / b)\n",
    "print (a ** b)"
   ]
  },
  {
   "cell_type": "code",
   "execution_count": 7,
   "metadata": {},
   "outputs": [
    {
     "name": "stdout",
     "output_type": "stream",
     "text": [
      "3.14\n"
     ]
    }
   ],
   "source": [
    "PI = 3.14\n",
    "print(PI)  # => 3.14"
   ]
  },
  {
   "cell_type": "code",
   "execution_count": null,
   "metadata": {},
   "outputs": [],
   "source": []
  },
  {
   "cell_type": "code",
   "execution_count": 8,
   "metadata": {},
   "outputs": [
    {
     "name": "stdout",
     "output_type": "stream",
     "text": [
      "6.140000000000001\n"
     ]
    }
   ],
   "source": [
    "PI += 3\n",
    "print(PI)"
   ]
  },
  {
   "cell_type": "code",
   "execution_count": 15,
   "metadata": {},
   "outputs": [
    {
     "data": {
      "text/plain": [
       "5"
      ]
     },
     "execution_count": 15,
     "metadata": {},
     "output_type": "execute_result"
    }
   ],
   "source": [
    "a = float('5.12')\n",
    "a = int(a)\n",
    "a"
   ]
  },
  {
   "cell_type": "code",
   "execution_count": 16,
   "metadata": {},
   "outputs": [
    {
     "name": "stdout",
     "output_type": "stream",
     "text": [
      "5.0\n"
     ]
    }
   ],
   "source": [
    "a = 5\n",
    "print(float(a))"
   ]
  },
  {
   "cell_type": "code",
   "execution_count": 17,
   "metadata": {},
   "outputs": [
    {
     "name": "stdout",
     "output_type": "stream",
     "text": [
      "32567\n"
     ]
    }
   ],
   "source": [
    "a = '00032567'\n",
    "print(int(a))"
   ]
  },
  {
   "cell_type": "code",
   "execution_count": 18,
   "metadata": {},
   "outputs": [
    {
     "name": "stdout",
     "output_type": "stream",
     "text": [
      "Apollo 13\n"
     ]
    }
   ],
   "source": [
    "a = 'Apollo '\n",
    "b = 13\n",
    "print(a + str(b))"
   ]
  },
  {
   "cell_type": "code",
   "execution_count": 20,
   "metadata": {},
   "outputs": [
    {
     "name": "stdout",
     "output_type": "stream",
     "text": [
      "привет\n"
     ]
    }
   ],
   "source": [
    "a = ['п', 'р', 'и', 'в', 'е', 'т']\n",
    "print(''.join(a))"
   ]
  },
  {
   "cell_type": "code",
   "execution_count": 21,
   "metadata": {},
   "outputs": [
    {
     "name": "stdout",
     "output_type": "stream",
     "text": [
      "{'р', 'е', 'т', 'п', 'в', 'и'}\n"
     ]
    }
   ],
   "source": [
    "a = 'привет'\n",
    "print(set(a))"
   ]
  },
  {
   "cell_type": "code",
   "execution_count": 22,
   "metadata": {},
   "outputs": [
    {
     "name": "stdout",
     "output_type": "stream",
     "text": [
      "['я', ' ', 'и', 'з', 'у', 'ч', 'а', 'ю', ' ', 'P', 'y', 't', 'h', 'o', 'n']\n"
     ]
    }
   ],
   "source": [
    "a = 'я изучаю Python'\n",
    "print(list(a))"
   ]
  },
  {
   "cell_type": "code",
   "execution_count": 23,
   "metadata": {},
   "outputs": [
    {
     "name": "stdout",
     "output_type": "stream",
     "text": [
      "['red', 'blue', 'green']\n"
     ]
    }
   ],
   "source": [
    "a = ('red', 'blue', 'green')\n",
    "print(list(a))"
   ]
  },
  {
   "cell_type": "code",
   "execution_count": 24,
   "metadata": {},
   "outputs": [
    {
     "name": "stdout",
     "output_type": "stream",
     "text": [
      "Hello, World!\n"
     ]
    }
   ],
   "source": [
    "print(\"Hello, World!\")"
   ]
  },
  {
   "cell_type": "code",
   "execution_count": 25,
   "metadata": {},
   "outputs": [
    {
     "name": "stdout",
     "output_type": "stream",
     "text": [
      "Выберите операцию:\n",
      "1. Сложение\n",
      "2. Вычитание\n",
      "3. Умножение\n",
      "4. Деление\n",
      "Результат: 1.0 + 2.0 = 3.0\n"
     ]
    }
   ],
   "source": [
    "# Простейший калькулятор\n",
    "\n",
    "num1 = float(input(\"Введите первое число: \"))\n",
    "num2 = float(input(\"Введите второе число: \"))\n",
    "\n",
    "print(\"Выберите операцию:\")\n",
    "print(\"1. Сложение\")\n",
    "print(\"2. Вычитание\")\n",
    "print(\"3. Умножение\")\n",
    "print(\"4. Деление\")\n",
    "\n",
    "choice = input(\"Введите номер операции (1/2/3/4): \")\n",
    "\n",
    "if choice == '1':\n",
    "    print(f\"Результат: {num1} + {num2} = {num1 + num2}\")\n",
    "elif choice == '2':\n",
    "    print(f\"Результат: {num1} - {num2} = {num1 - num2}\")\n",
    "elif choice == '3':\n",
    "    print(f\"Результат: {num1} * {num2} = {num1 * num2}\")\n",
    "elif choice == '4':\n",
    "    if num2 != 0:\n",
    "        print(f\"Результат: {num1} / {num2} = {num1 / num2}\")\n",
    "    else:\n",
    "        print(\"Ошибка: деление на ноль!\")\n",
    "else:\n",
    "    print(\"Неверный ввод!\")\n"
   ]
  },
  {
   "cell_type": "code",
   "execution_count": 26,
   "metadata": {},
   "outputs": [
    {
     "name": "stdout",
     "output_type": "stream",
     "text": [
      "Число 5 является нечетным.\n"
     ]
    }
   ],
   "source": [
    "# Проверка четности числа\n",
    "\n",
    "num = int(5)\n",
    "\n",
    "if num % 2 == 0:\n",
    "    print(f\"Число {num} является четным.\")\n",
    "else:\n",
    "    print(f\"Число {num} является нечетным.\")"
   ]
  },
  {
   "cell_type": "code",
   "execution_count": 30,
   "metadata": {},
   "outputs": [
    {
     "name": "stdout",
     "output_type": "stream",
     "text": [
      "Случайное число в диапазоне от 10 до 1000: 684\n"
     ]
    }
   ],
   "source": [
    "import random\n",
    "\n",
    "# Генератор случайных чисел\n",
    "start = int(10)\n",
    "end = int(1000)\n",
    "\n",
    "random_number = random.randint(start, end)\n",
    "print(f\"Случайное число в диапазоне от {start} до {end}: {random_number}\")"
   ]
  }
 ],
 "metadata": {
  "kernelspec": {
   "display_name": "Python 3",
   "language": "python",
   "name": "python3"
  },
  "language_info": {
   "codemirror_mode": {
    "name": "ipython",
    "version": 3
   },
   "file_extension": ".py",
   "mimetype": "text/x-python",
   "name": "python",
   "nbconvert_exporter": "python",
   "pygments_lexer": "ipython3",
   "version": "3.12.0"
  }
 },
 "nbformat": 4,
 "nbformat_minor": 2
}
